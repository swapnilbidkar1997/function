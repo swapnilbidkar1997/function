{
  "nbformat": 4,
  "nbformat_minor": 0,
  "metadata": {
    "colab": {
      "provenance": []
    },
    "kernelspec": {
      "name": "python3",
      "display_name": "Python 3"
    },
    "language_info": {
      "name": "python"
    }
  },
  "cells": [
    {
      "cell_type": "markdown",
      "source": [
        "Q1. what is the difference between a function and a method in python?\n",
        "\n",
        "i) function:\n",
        "\n",
        " 1) function is a block of code that is  also called by its name.\n",
        "\n",
        " 2) the function can have different parameters or may not have any at all.if any data are passed,they are passed explicitly\n",
        "\n",
        " 3) it may or may not return any data.\n",
        "\n",
        " 4) function does not deal with class and its instance concept.\n",
        "\n",
        "\n",
        "         \n"
      ],
      "metadata": {
        "id": "PE9-MnPrwS4G"
      }
    },
    {
      "cell_type": "code",
      "source": [
        "def subtract (a,b):\n",
        "    return a-b\n"
      ],
      "metadata": {
        "id": "QoaNVbF6MpUj"
      },
      "execution_count": null,
      "outputs": []
    },
    {
      "cell_type": "code",
      "source": [
        "subtract(10,5)"
      ],
      "metadata": {
        "colab": {
          "base_uri": "https://localhost:8080/"
        },
        "id": "YF_oSNZGM6Rw",
        "outputId": "62b8a551-29c2-4d83-cef5-8f198d36d7bc"
      },
      "execution_count": null,
      "outputs": [
        {
          "output_type": "execute_result",
          "data": {
            "text/plain": [
              "5"
            ]
          },
          "metadata": {},
          "execution_count": 16
        }
      ]
    },
    {
      "cell_type": "markdown",
      "source": [
        "ii) method:\n",
        "\n",
        "1) method is called by its name, but it is associated to an object\n",
        "\n",
        "2) a method definition always includes seld as its first parameter.\n",
        "\n",
        "3)it may or may not return data\n",
        "\n",
        "4) a method can operate on the data that is contained by the corresponding class."
      ],
      "metadata": {
        "id": "CsDPlIErNUBd"
      }
    },
    {
      "cell_type": "code",
      "source": [
        "# example\n",
        "class abc :\n",
        "    def method_abc(self):\n",
        "        print(\"this is a method in class abc\")\n",
        "\n",
        "class_ref = abc()\n",
        "class_ref.method_abc()\n"
      ],
      "metadata": {
        "colab": {
          "base_uri": "https://localhost:8080/"
        },
        "id": "IWZQ75XKOmub",
        "outputId": "b3f35d9d-5b74-4ae5-ad17-7e7ed2d165b4"
      },
      "execution_count": null,
      "outputs": [
        {
          "output_type": "stream",
          "name": "stdout",
          "text": [
            "this is a method in class abc\n"
          ]
        }
      ]
    },
    {
      "cell_type": "markdown",
      "source": [
        "Q2.explain the concept of function arguments and parameters in python.\n",
        "\n",
        "i) what is parameter: parameters allow functio to require additional pieces of information in order to called.\n",
        "\n",
        "ii) what is argument: arguments are the value we assign to parameters.\n"
      ],
      "metadata": {
        "id": "bcKbm99xyxsR"
      }
    },
    {
      "cell_type": "code",
      "source": [
        "def greet(x):\n",
        "    print(f\"welcome to mumbai {x }\")\n"
      ],
      "metadata": {
        "id": "0ZVaOoBk4Ben"
      },
      "execution_count": null,
      "outputs": []
    },
    {
      "cell_type": "code",
      "source": [
        "greet(\"ajay\")"
      ],
      "metadata": {
        "colab": {
          "base_uri": "https://localhost:8080/"
        },
        "id": "hQGUyWp0IHeL",
        "outputId": "92d19f2f-d9d0-4f98-ef92-2a9b30e82b93"
      },
      "execution_count": null,
      "outputs": [
        {
          "output_type": "stream",
          "name": "stdout",
          "text": [
            "welcome to mumbai ajay\n"
          ]
        }
      ]
    },
    {
      "cell_type": "markdown",
      "source": [
        "Q3.what are the differnt ways to define and call a function in python?\n",
        "\n",
        "i) how to define function?: we can define a function in python, using the def keyword, we can call function by its name().\n"
      ],
      "metadata": {
        "id": "eZenJ9Vi5Ml1"
      }
    },
    {
      "cell_type": "code",
      "source": [
        "def fun():\n",
        "  print( \"welcome\")"
      ],
      "metadata": {
        "id": "WUMyaE5wSbEQ"
      },
      "execution_count": null,
      "outputs": []
    },
    {
      "cell_type": "code",
      "source": [
        "fun()"
      ],
      "metadata": {
        "colab": {
          "base_uri": "https://localhost:8080/"
        },
        "id": "8pCdBLCuSib1",
        "outputId": "a308f8f9-963a-4ba6-fc57-798d0ed04cd1"
      },
      "execution_count": null,
      "outputs": [
        {
          "output_type": "stream",
          "name": "stdout",
          "text": [
            "welcome\n"
          ]
        }
      ]
    },
    {
      "cell_type": "markdown",
      "source": [
        "ii) how to call function?\n",
        "we can call function by using the name of the functions python by parenthesis containingof that particular function.\n"
      ],
      "metadata": {
        "id": "47scKQMITm-S"
      }
    },
    {
      "cell_type": "code",
      "source": [
        "def fun():\n",
        "  print( \"welcome\")\n",
        "\n",
        "fun()"
      ],
      "metadata": {
        "colab": {
          "base_uri": "https://localhost:8080/"
        },
        "id": "3MypMXX0UC-6",
        "outputId": "b5aa721a-8278-4fd2-b4a7-9ffc7b053758"
      },
      "execution_count": null,
      "outputs": [
        {
          "output_type": "stream",
          "name": "stdout",
          "text": [
            "welcome\n"
          ]
        }
      ]
    },
    {
      "cell_type": "markdown",
      "source": [
        "Q4.what is the purpose of the return statement in a python  function?"
      ],
      "metadata": {
        "id": "-Fp9A4ic5gQ0"
      }
    },
    {
      "cell_type": "markdown",
      "source": [
        "ans: a return statement is used to end the execution of the function call and \"returns\" the result to the caller. the statements after the return statements are not executed. if the return statement is without any expression, then the special value none is returned . a return statement is overall  used to invoke a function so that the passed statements can be executed.\n"
      ],
      "metadata": {
        "id": "2K2EkXs_UrXR"
      }
    },
    {
      "cell_type": "code",
      "source": [
        "\n",
        "\n",
        "def add_numbers(x, y):\n",
        "\n",
        "  sum = x + y\n",
        "  return sum\n",
        "\n",
        "add_numbers(5, 3)\n"
      ],
      "metadata": {
        "colab": {
          "base_uri": "https://localhost:8080/"
        },
        "id": "QnA3oT3KWFs1",
        "outputId": "3031b99a-de4e-40db-8a7d-5bf2684ef8c3"
      },
      "execution_count": null,
      "outputs": [
        {
          "output_type": "execute_result",
          "data": {
            "text/plain": [
              "8"
            ]
          },
          "metadata": {},
          "execution_count": 43
        }
      ]
    },
    {
      "cell_type": "markdown",
      "source": [
        "Q5.what are the iterators in python and how do they differ from iterables?\n",
        "\n",
        "i) what is iterator in python?\n",
        "\n",
        "an iterator in python is an object that is used is used to iterate ove iterale objects like lists, tuples, dicts, and sets. the python iterators object is initialized using ithe iter() method . it uses the method for iteration.\n"
      ],
      "metadata": {
        "id": "30MqaPs551Wm"
      }
    },
    {
      "cell_type": "code",
      "source": [
        "string = \"swapnil\"\n",
        "ch_iterator = iter(string)\n",
        "next(ch_iterator)"
      ],
      "metadata": {
        "colab": {
          "base_uri": "https://localhost:8080/",
          "height": 36
        },
        "id": "xW-SCuP09YXO",
        "outputId": "8fa2d768-eb3c-4f60-a8f6-930201a2895c"
      },
      "execution_count": null,
      "outputs": [
        {
          "output_type": "execute_result",
          "data": {
            "text/plain": [
              "'s'"
            ],
            "application/vnd.google.colaboratory.intrinsic+json": {
              "type": "string"
            }
          },
          "metadata": {},
          "execution_count": 1
        }
      ]
    },
    {
      "cell_type": "code",
      "source": [
        "next(ch_iterator)"
      ],
      "metadata": {
        "colab": {
          "base_uri": "https://localhost:8080/",
          "height": 36
        },
        "id": "v4QrL1_79Tmo",
        "outputId": "92c230e7-0e80-46b0-9937-b8a684f58f3b"
      },
      "execution_count": null,
      "outputs": [
        {
          "output_type": "execute_result",
          "data": {
            "text/plain": [
              "'w'"
            ],
            "application/vnd.google.colaboratory.intrinsic+json": {
              "type": "string"
            }
          },
          "metadata": {},
          "execution_count": 2
        }
      ]
    },
    {
      "cell_type": "markdown",
      "source": [
        "ii) difference between iterators and\n",
        "iterables.\n",
        "\n",
        "ans: iterators and iterables are two different but related tools that come in handy when yu need to iterate over a data stream or container. iterators power and control the iteration process, while iterables typically hold data that you want to iterate over one value ata a time .\n"
      ],
      "metadata": {
        "id": "XRNWUOnP9v4t"
      }
    },
    {
      "cell_type": "code",
      "source": [
        "s =  [1,2,2,3,4,5,6]\n",
        "i = iter(s)\n",
        "next(i)"
      ],
      "metadata": {
        "colab": {
          "base_uri": "https://localhost:8080/"
        },
        "id": "LrA3dpee_wmF",
        "outputId": "81429a28-37a5-4099-d670-7e5069fdee2e"
      },
      "execution_count": null,
      "outputs": [
        {
          "output_type": "execute_result",
          "data": {
            "text/plain": [
              "1"
            ]
          },
          "metadata": {},
          "execution_count": 4
        }
      ]
    },
    {
      "cell_type": "markdown",
      "source": [
        "Q6. explain the concept of generators in python and how they are defined.\n",
        "\n",
        "i) what is generator?\n",
        "\n",
        "in python , a generator is a function that returns an iterator that produces a sequence of values when iterated over.generators are useful when we want to produce a large sequence of values,but we don't want to store all of them in momory at once.\n",
        "\n",
        "ii) how to define generator in python?\n",
        "\n",
        "it defined using function and that uses the yield keyword to return values.\n"
      ],
      "metadata": {
        "id": "0QWbFQ-j6Pk3"
      }
    },
    {
      "cell_type": "code",
      "source": [
        "\n",
        "\n",
        "def square_numbers(nums):\n",
        "  for num in nums:\n",
        "    yield num * num\n",
        "\n",
        "my_nums = square_numbers([1, 2, 3, 4, 5])\n",
        "\n",
        "for num in my_nums:\n",
        "  print(num)\n"
      ],
      "metadata": {
        "colab": {
          "base_uri": "https://localhost:8080/"
        },
        "id": "LawXBdBzCARZ",
        "outputId": "7eb51700-4c37-40bd-c63d-d190285b5b0e"
      },
      "execution_count": null,
      "outputs": [
        {
          "output_type": "stream",
          "name": "stdout",
          "text": [
            "1\n",
            "4\n",
            "9\n",
            "16\n",
            "25\n"
          ]
        }
      ]
    },
    {
      "cell_type": "markdown",
      "source": [
        "Q7. what are the advantages of using generators over regular functions?\n",
        "\n",
        "since a generator yields its values one by one, it does not need to store all of the values in memory at onece. this can be especially useful when working with large data sets, as it reduces the risk of running out of memory."
      ],
      "metadata": {
        "id": "FKnmaVno6joY"
      }
    },
    {
      "cell_type": "code",
      "source": [
        "def square_numbers(nums):\n",
        "  for num in nums:\n",
        "     if num < 1000:\n",
        "       yield num * num\n",
        "\n",
        "my_nums = square_numbers([10])\n",
        "\n",
        "for num in my_nums:\n",
        "  print(num)"
      ],
      "metadata": {
        "colab": {
          "base_uri": "https://localhost:8080/"
        },
        "id": "KDOgNQOnGsSq",
        "outputId": "157cea7b-7303-466d-c326-44c82737fd71"
      },
      "execution_count": null,
      "outputs": [
        {
          "output_type": "stream",
          "name": "stdout",
          "text": [
            "100\n"
          ]
        }
      ]
    },
    {
      "cell_type": "markdown",
      "source": [
        "Q8. what is a lambda function in python and when is it typically used?\n",
        "\n",
        "i) what is lambda function?\n",
        "\n",
        "in python lambda functions are anonymous functions means that the function is without a nem. as we already know the defkeyword is used to define a normal function in python. similarly, the lambda keyword is used to define an anonymous function in python.\n",
        "\n",
        "ii) use of lambda function.\n",
        "\n",
        "1)lambda function are useful for small,one-time operations that can be written in a single line of code. this can be usefull  when a full function would be too much.\n",
        "\n",
        "2) build= in functions.\n",
        "lambda functions are often used with built-in functions like map(), filter(), and reduce().\n",
        "\n",
        "3) lambda functinons can be useful for data scientiests and analysts because they can streamline data manipulation and enhance its appearance.\n",
        "\n",
        "\n"
      ],
      "metadata": {
        "id": "7zpYady062lm"
      }
    },
    {
      "cell_type": "code",
      "source": [
        "square = lambda x: x**2\n",
        "square(5)\n",
        "\n",
        "\n",
        "\n",
        "\n",
        "\n",
        "\n"
      ],
      "metadata": {
        "colab": {
          "base_uri": "https://localhost:8080/"
        },
        "id": "oDNcBBHsPT3d",
        "outputId": "46196097-1275-4e3a-897f-86580799e0f4"
      },
      "execution_count": null,
      "outputs": [
        {
          "output_type": "execute_result",
          "data": {
            "text/plain": [
              "25"
            ]
          },
          "metadata": {},
          "execution_count": 37
        }
      ]
    },
    {
      "cell_type": "markdown",
      "source": [
        "Q9.explain the purpose and usage of the map() function in python.\n",
        "\n",
        "i) purpose and usage of map function:\n",
        "\n",
        "1) purpose: map in python is a function that works as an iterator to return a result after applying a function to every item of an iterable\n",
        "\n",
        "\n",
        "\n",
        " 2) use:it is used when you want to apply a single transformation function to all the iterable elements.\n"
      ],
      "metadata": {
        "id": "92t8nNfd7Ceo"
      }
    },
    {
      "cell_type": "code",
      "source": [
        "l = [1,2,3,4,5,6,7,8,9]\n",
        "list(map(lambda x: x**2,l))"
      ],
      "metadata": {
        "colab": {
          "base_uri": "https://localhost:8080/"
        },
        "id": "LCCpa0mFTlig",
        "outputId": "f5e4e49c-2b74-43be-b8c7-39315373f746"
      },
      "execution_count": null,
      "outputs": [
        {
          "output_type": "execute_result",
          "data": {
            "text/plain": [
              "[1, 4, 9, 16, 25, 36, 49, 64, 81]"
            ]
          },
          "metadata": {},
          "execution_count": 38
        }
      ]
    },
    {
      "cell_type": "markdown",
      "source": [
        "Q10.what is the difference between map() reduce() and filter() function in python?\n",
        "\n",
        "\n",
        "map: the map()function returns a map object of the results after applying the given function to each item of a given iterable\n",
        "\n",
        "VS reduce: reduce function is used to apply a particular function passed in its argument to all of the list elements mentioned in the sequence along.\n",
        "\n",
        " VS filter: filter() method filters the given sequence with the help of a function that tests each element in the sequence to be true or not."
      ],
      "metadata": {
        "id": "Cqoe-bJA7M58"
      }
    },
    {
      "cell_type": "code",
      "source": [
        " # map\n",
        " l = [1,2,3,4,5,6,7,8,9]\n",
        " list(map(lambda x: x**2,l))"
      ],
      "metadata": {
        "colab": {
          "base_uri": "https://localhost:8080/"
        },
        "id": "hx4J2D8EYMg4",
        "outputId": "a44d7218-1edd-45ed-8b23-ba5b0ec4684d"
      },
      "execution_count": null,
      "outputs": [
        {
          "output_type": "execute_result",
          "data": {
            "text/plain": [
              "[1, 4, 9, 16, 25, 36, 49, 64, 81]"
            ]
          },
          "metadata": {},
          "execution_count": 39
        }
      ]
    },
    {
      "cell_type": "code",
      "source": [
        "#reduce\n",
        "l = [1,2,3,4,5,6,7,8,9]\n",
        "from functools import reduce\n",
        "reduce(lambda x,y: x+y,l)"
      ],
      "metadata": {
        "colab": {
          "base_uri": "https://localhost:8080/"
        },
        "id": "Gbc1f41UYVtH",
        "outputId": "427f5f76-7217-4283-f289-20c7c0d6b010"
      },
      "execution_count": null,
      "outputs": [
        {
          "output_type": "execute_result",
          "data": {
            "text/plain": [
              "45"
            ]
          },
          "metadata": {},
          "execution_count": 40
        }
      ]
    },
    {
      "cell_type": "code",
      "source": [
        "# filter\n",
        "l = [1,2,3,4,5,6,7,8,9]\n",
        "list(filter(lambda x: x%2==0,l))"
      ],
      "metadata": {
        "colab": {
          "base_uri": "https://localhost:8080/"
        },
        "id": "1opyJ1xoYfZT",
        "outputId": "988ad865-e6c5-42e9-92d2-e5987b322116"
      },
      "execution_count": null,
      "outputs": [
        {
          "output_type": "execute_result",
          "data": {
            "text/plain": [
              "[2, 4, 6, 8]"
            ]
          },
          "metadata": {},
          "execution_count": 41
        }
      ]
    },
    {
      "cell_type": "markdown",
      "source": [
        "Q11.using pen & paper write the internal mechanism for sum operation using reduce function on this given\n",
        "\n",
        "uploded on doc\n",
        "![WhatsApp Image 2024-09-09 at 11.51.46_26d60abe.jpg](data:image/jpeg;base64,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)"
      ],
      "metadata": {
        "id": "3W1HtrbE7ddq"
      }
    },
    {
      "cell_type": "markdown",
      "source": [
        "\n"
      ],
      "metadata": {
        "id": "MP4dQ8OleXqP"
      }
    },
    {
      "cell_type": "code",
      "source": [
        "\n",
        "\n",
        "from functools import reduce\n",
        "numbers = [1,2,3,4,5,6,7,8,9]\n",
        "def sum_even_numbers(numbers):\n",
        "  even_numbers = []\n",
        "  for number in numbers:\n",
        "    if number % 2 == 0:\n",
        "      even_numbers = list(filter(lambda x: x % 2 == 0, numbers))\n",
        "  else:\n",
        "    return reduce(lambda x, y: x + y, even_numbers)\n"
      ],
      "metadata": {
        "id": "9EWsfzMAqBwV"
      },
      "execution_count": 4,
      "outputs": []
    },
    {
      "cell_type": "code",
      "source": [
        "sum_even_numbers(numbers)"
      ],
      "metadata": {
        "colab": {
          "base_uri": "https://localhost:8080/"
        },
        "id": "Sg9ASuPZw-eZ",
        "outputId": "7bf2b99a-5151-4b59-d2c3-30ee8506d5bf"
      },
      "execution_count": 5,
      "outputs": [
        {
          "output_type": "execute_result",
          "data": {
            "text/plain": [
              "20"
            ]
          },
          "metadata": {},
          "execution_count": 5
        }
      ]
    },
    {
      "cell_type": "markdown",
      "source": [
        "Q2. creat a python function that accepts a strings and returns the reverse of that string."
      ],
      "metadata": {
        "id": "LIKa7Ns2e6Y4"
      }
    },
    {
      "cell_type": "code",
      "source": [
        "x = \"swapnil\"\n",
        "def string(x):\n",
        "  return x[::-1]"
      ],
      "metadata": {
        "id": "FFQCeX1GM9qT"
      },
      "execution_count": 10,
      "outputs": []
    },
    {
      "cell_type": "code",
      "source": [
        "string(\"swapnil\")"
      ],
      "metadata": {
        "colab": {
          "base_uri": "https://localhost:8080/",
          "height": 36
        },
        "id": "6lqbyY8VNOKk",
        "outputId": "133ae7c7-3c3e-4b85-b92f-ecbd7abacd0f"
      },
      "execution_count": 11,
      "outputs": [
        {
          "output_type": "execute_result",
          "data": {
            "text/plain": [
              "'linpaws'"
            ],
            "application/vnd.google.colaboratory.intrinsic+json": {
              "type": "string"
            }
          },
          "metadata": {},
          "execution_count": 11
        }
      ]
    },
    {
      "cell_type": "code",
      "source": [
        "string(\"rawan\")"
      ],
      "metadata": {
        "colab": {
          "base_uri": "https://localhost:8080/",
          "height": 36
        },
        "id": "ECkr4sy_OBP-",
        "outputId": "b2378ccd-ef97-44ab-b6c8-fa8f547951c1"
      },
      "execution_count": 12,
      "outputs": [
        {
          "output_type": "execute_result",
          "data": {
            "text/plain": [
              "'nawar'"
            ],
            "application/vnd.google.colaboratory.intrinsic+json": {
              "type": "string"
            }
          },
          "metadata": {},
          "execution_count": 12
        }
      ]
    },
    {
      "cell_type": "markdown",
      "source": [
        "Q3. implement a python function that takes a list of integers and returns a new list containing the squares of each number."
      ],
      "metadata": {
        "id": "NDPTzPDJfVJU"
      }
    },
    {
      "cell_type": "code",
      "source": [
        "l = [1,2,3,4,5,6,7,8,9]\n",
        "def square(l):\n",
        "  return list(map(lambda x: x**2, l))"
      ],
      "metadata": {
        "id": "Jl580Y77OMUK"
      },
      "execution_count": 15,
      "outputs": []
    },
    {
      "cell_type": "code",
      "source": [
        "square(l)"
      ],
      "metadata": {
        "colab": {
          "base_uri": "https://localhost:8080/"
        },
        "id": "iWTINAyVOeAq",
        "outputId": "72a8b31e-a16e-4a8b-b7c4-93a6ec5c38a1"
      },
      "execution_count": 16,
      "outputs": [
        {
          "output_type": "execute_result",
          "data": {
            "text/plain": [
              "[1, 4, 9, 16, 25, 36, 49, 64, 81]"
            ]
          },
          "metadata": {},
          "execution_count": 16
        }
      ]
    },
    {
      "cell_type": "code",
      "source": [
        "l = [98,75,48,65,24]\n",
        "square(l)"
      ],
      "metadata": {
        "colab": {
          "base_uri": "https://localhost:8080/"
        },
        "id": "TUYRfPQvOjb7",
        "outputId": "a0eebcbb-f17a-4683-f2b0-4176ce780d2b"
      },
      "execution_count": 19,
      "outputs": [
        {
          "output_type": "execute_result",
          "data": {
            "text/plain": [
              "[9604, 5625, 2304, 4225, 576]"
            ]
          },
          "metadata": {},
          "execution_count": 19
        }
      ]
    },
    {
      "cell_type": "markdown",
      "source": [
        "Q4.write a python function that checks if a given number is prime or not from 1 to 200."
      ],
      "metadata": {
        "id": "AM4t4V9yfvHo"
      }
    },
    {
      "cell_type": "code",
      "source": [
        "num = [int]\n",
        "def prime(num):\n",
        " if num > 1:\n",
        "  for i in range(2, ( num//2)+1):\n",
        "    if (num % i) == 0:\n",
        "      print(num, \"is not a prime number\")\n",
        "      break\n",
        "    else:\n",
        "      print(num, \"is a prime number\")\n",
        "  else:\n",
        "      print(num, \"is not a  prime number\")"
      ],
      "metadata": {
        "id": "GY8MNnriO-9Z"
      },
      "execution_count": 32,
      "outputs": []
    },
    {
      "cell_type": "code",
      "source": [
        "prime(8)"
      ],
      "metadata": {
        "colab": {
          "base_uri": "https://localhost:8080/"
        },
        "id": "OAM-3y28SrWv",
        "outputId": "72646771-b93b-47e8-88ab-065267808d1c"
      },
      "execution_count": 34,
      "outputs": [
        {
          "output_type": "stream",
          "name": "stdout",
          "text": [
            "8 is not a prime number\n"
          ]
        }
      ]
    },
    {
      "cell_type": "markdown",
      "source": [
        "Q5.create an iterator class in python that generate the fibonacci sequence up to a specified  number of terms."
      ],
      "metadata": {
        "id": "gjn4Nb2Kf_gT"
      }
    },
    {
      "cell_type": "code",
      "source": [
        "def fib(n):\n",
        "  a, b = 0, 1\n",
        "  for i in range(n):\n",
        "    yield a\n",
        "    a, b = b, a+b\n"
      ],
      "metadata": {
        "id": "Wywgqi8KW56l"
      },
      "execution_count": 43,
      "outputs": []
    },
    {
      "cell_type": "code",
      "source": [
        "f =  fib(100000)"
      ],
      "metadata": {
        "id": "klahYFeBcjql"
      },
      "execution_count": 48,
      "outputs": []
    },
    {
      "cell_type": "code",
      "source": [
        "f"
      ],
      "metadata": {
        "colab": {
          "base_uri": "https://localhost:8080/"
        },
        "id": "PhBvGCpDdJ7I",
        "outputId": "412172cb-e171-43d8-de33-dbe2ef415a3b"
      },
      "execution_count": 49,
      "outputs": [
        {
          "output_type": "execute_result",
          "data": {
            "text/plain": [
              "<generator object fib at 0x7d965ea417e0>"
            ]
          },
          "metadata": {},
          "execution_count": 49
        }
      ]
    },
    {
      "cell_type": "code",
      "source": [
        "next(f)"
      ],
      "metadata": {
        "colab": {
          "base_uri": "https://localhost:8080/"
        },
        "id": "ivGHoJzvdbhm",
        "outputId": "079fef50-117c-4e77-bf24-b3faa36039a5"
      },
      "execution_count": 50,
      "outputs": [
        {
          "output_type": "execute_result",
          "data": {
            "text/plain": [
              "0"
            ]
          },
          "metadata": {},
          "execution_count": 50
        }
      ]
    },
    {
      "cell_type": "code",
      "source": [
        "next(f)"
      ],
      "metadata": {
        "colab": {
          "base_uri": "https://localhost:8080/"
        },
        "id": "xYXSJ2gfdhUn",
        "outputId": "42ec8f5e-ca3f-4efb-9a70-ccc38471554b"
      },
      "execution_count": 51,
      "outputs": [
        {
          "output_type": "execute_result",
          "data": {
            "text/plain": [
              "1"
            ]
          },
          "metadata": {},
          "execution_count": 51
        }
      ]
    },
    {
      "cell_type": "markdown",
      "source": [],
      "metadata": {
        "id": "4za2qTGJdzau"
      }
    },
    {
      "cell_type": "markdown",
      "source": [
        "Q6.write a generator  functionn in python that yields the powers of 2 up to a given exponent."
      ],
      "metadata": {
        "id": "Jhsw8A99f3RP"
      }
    },
    {
      "cell_type": "code",
      "source": [
        "def powers_of_two(exponent):\n",
        "  for i in range(exponent+1):\n",
        "    yield 2 ** i\n"
      ],
      "metadata": {
        "id": "FlOd0oh_gXkD"
      },
      "execution_count": 62,
      "outputs": []
    },
    {
      "cell_type": "code",
      "source": [
        "f = powers_of_two(10)"
      ],
      "metadata": {
        "id": "9fMLl_vShEu3"
      },
      "execution_count": 71,
      "outputs": []
    },
    {
      "cell_type": "code",
      "source": [
        "f"
      ],
      "metadata": {
        "colab": {
          "base_uri": "https://localhost:8080/"
        },
        "id": "SSZqYIhMhK4R",
        "outputId": "01f5fec6-a813-4085-fe66-ed3a9dd5d229"
      },
      "execution_count": 64,
      "outputs": [
        {
          "output_type": "execute_result",
          "data": {
            "text/plain": [
              "<generator object powers_of_two at 0x7d965ea41d90>"
            ]
          },
          "metadata": {},
          "execution_count": 64
        }
      ]
    },
    {
      "cell_type": "code",
      "source": [
        "next(f)"
      ],
      "metadata": {
        "colab": {
          "base_uri": "https://localhost:8080/"
        },
        "id": "zu_hYNzUhRhF",
        "outputId": "54e2d81c-7ecb-4347-ebe2-01ddb4702626"
      },
      "execution_count": 65,
      "outputs": [
        {
          "output_type": "execute_result",
          "data": {
            "text/plain": [
              "1"
            ]
          },
          "metadata": {},
          "execution_count": 65
        }
      ]
    },
    {
      "cell_type": "code",
      "source": [
        "next(f)"
      ],
      "metadata": {
        "colab": {
          "base_uri": "https://localhost:8080/"
        },
        "id": "3BQ-PE_dhWUV",
        "outputId": "5b14f80e-2f8b-44a3-dd5b-1a5518956c73"
      },
      "execution_count": 66,
      "outputs": [
        {
          "output_type": "execute_result",
          "data": {
            "text/plain": [
              "2"
            ]
          },
          "metadata": {},
          "execution_count": 66
        }
      ]
    },
    {
      "cell_type": "code",
      "source": [
        "next(f)"
      ],
      "metadata": {
        "colab": {
          "base_uri": "https://localhost:8080/"
        },
        "id": "gbx70TX7hb9K",
        "outputId": "79e29bae-9671-49ba-d9d7-8a4c131282fa"
      },
      "execution_count": 67,
      "outputs": [
        {
          "output_type": "execute_result",
          "data": {
            "text/plain": [
              "4"
            ]
          },
          "metadata": {},
          "execution_count": 67
        }
      ]
    },
    {
      "cell_type": "code",
      "source": [
        "next(f)"
      ],
      "metadata": {
        "colab": {
          "base_uri": "https://localhost:8080/"
        },
        "id": "q-IKk5VbiEeF",
        "outputId": "46098671-09a4-47ef-ebe0-30d858cd63f3"
      },
      "execution_count": 68,
      "outputs": [
        {
          "output_type": "execute_result",
          "data": {
            "text/plain": [
              "8"
            ]
          },
          "metadata": {},
          "execution_count": 68
        }
      ]
    },
    {
      "cell_type": "markdown",
      "source": [
        "Q7. implement  a generator function that reads a file line by line and yields eacch line as a strings.\n"
      ],
      "metadata": {
        "id": "bRuuOfaBi7hq"
      }
    },
    {
      "cell_type": "code",
      "source": [
        "def read_file_line_by_line(filename):\n",
        "  with open(filename, 'r') as file:\n",
        "    for line in file:\n",
        "      yield line.strip()\n"
      ],
      "metadata": {
        "id": "FMslxil1jN3g"
      },
      "execution_count": 72,
      "outputs": []
    },
    {
      "cell_type": "markdown",
      "source": [
        "Q8. use a labda function in python to sort a list of tuples based on second element of each tuple."
      ],
      "metadata": {
        "id": "ochfftrYjmXA"
      }
    },
    {
      "cell_type": "code",
      "source": [
        "\n",
        "\n",
        "data = [('apple', 3), ('banana', 1), ('cherry', 2)]\n",
        "sorted_data = sorted(data, key=lambda x: x[1])\n",
        "print(sorted_data)\n"
      ],
      "metadata": {
        "colab": {
          "base_uri": "https://localhost:8080/"
        },
        "id": "rWPaM7bDlGUM",
        "outputId": "b5961b97-f791-4aec-9c1f-603f3f2bf39b"
      },
      "execution_count": 82,
      "outputs": [
        {
          "output_type": "stream",
          "name": "stdout",
          "text": [
            "[('banana', 1), ('cherry', 2), ('apple', 3)]\n"
          ]
        }
      ]
    },
    {
      "cell_type": "markdown",
      "source": [
        "Q9. write a python program that uses 'map()' to convert a list of temperatures from celsius to fahrenheit.\n"
      ],
      "metadata": {
        "id": "nBr8wX_uj_SL"
      }
    },
    {
      "cell_type": "code",
      "source": [
        "celsius = [ 0,10,20,30,40]\n",
        "list(map(lambda x: (x * 9/5) + 32, celsius))"
      ],
      "metadata": {
        "colab": {
          "base_uri": "https://localhost:8080/"
        },
        "id": "XumjwlOyoGSm",
        "outputId": "a245c108-f8dc-4d10-8096-be152d03d746"
      },
      "execution_count": 95,
      "outputs": [
        {
          "output_type": "execute_result",
          "data": {
            "text/plain": [
              "[32.0, 50.0, 68.0, 86.0, 104.0]"
            ]
          },
          "metadata": {},
          "execution_count": 95
        }
      ]
    },
    {
      "cell_type": "markdown",
      "source": [
        "Q10.create a python program that uses 'filter()' to remove all vowels from a given string."
      ],
      "metadata": {
        "id": "5iZa_4GKkUEv"
      }
    },
    {
      "cell_type": "code",
      "source": [
        "def remove_vowels(string):\n",
        "  vowels = \"aeiouAEIOU\"\n",
        "  return \"\".join(filter(lambda x: x not in vowels, string))\n",
        "\n",
        "string = \"Hello World\"\n",
        "result = remove_vowels(string)\n",
        "print(result)\n"
      ],
      "metadata": {
        "colab": {
          "base_uri": "https://localhost:8080/"
        },
        "id": "ZkrX3OHBxfEK",
        "outputId": "12d80ac1-8f19-40b8-f149-6a2123a1b73b"
      },
      "execution_count": 96,
      "outputs": [
        {
          "output_type": "stream",
          "name": "stdout",
          "text": [
            "Hll Wrld\n"
          ]
        }
      ]
    }
  ]
}